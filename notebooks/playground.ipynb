{
 "cells": [
  {
   "cell_type": "code",
   "execution_count": 1,
   "id": "67190209",
   "metadata": {},
   "outputs": [
    {
     "data": {
      "application/vnd.jupyter.widget-view+json": {
       "model_id": "d255773ebfbb44039a10102d560a741e",
       "version_major": 2,
       "version_minor": 0
      },
      "text/plain": [
       "VBox(children=(HTML(value='<center> <img\\nsrc=https://huggingface.co/front/assets/huggingface_logo-noborder.sv…"
      ]
     },
     "metadata": {},
     "output_type": "display_data"
    }
   ],
   "source": [
    "import huggingface_hub\n",
    "import datasets\n",
    "import os\n",
    "\n",
    "HUGGINGFACE_TOKEN = os.environ.get(\"HUGGINGFACE_TOKEN\")\n",
    "\n",
    "huggingface_hub.login(HUGGINGFACE_TOKEN)"
   ]
  },
  {
   "cell_type": "code",
   "execution_count": 2,
   "id": "249b600a",
   "metadata": {},
   "outputs": [],
   "source": [
    "dataset = datasets.load_dataset(\"kahua-ml/flattened_nameplate_dataset\", split=\"train\")"
   ]
  },
  {
   "cell_type": "markdown",
   "id": "dce624e6",
   "metadata": {},
   "source": [
    "# Model Loading"
   ]
  },
  {
   "cell_type": "code",
   "execution_count": 3,
   "id": "acae3bfe",
   "metadata": {},
   "outputs": [
    {
     "name": "stderr",
     "output_type": "stream",
     "text": [
      "`torch_dtype` is deprecated! Use `dtype` instead!\n"
     ]
    },
    {
     "data": {
      "application/vnd.jupyter.widget-view+json": {
       "model_id": "842cc858e52f42d094b64fc3487c0376",
       "version_major": 2,
       "version_minor": 0
      },
      "text/plain": [
       "Loading checkpoint shards:   0%|          | 0/5 [00:00<?, ?it/s]"
      ]
     },
     "metadata": {},
     "output_type": "display_data"
    },
    {
     "data": {
      "application/vnd.jupyter.widget-view+json": {
       "model_id": "f10e97b9b6714b67b629bc8531833001",
       "version_major": 2,
       "version_minor": 0
      },
      "text/plain": [
       "Fetching 1 files:   0%|          | 0/1 [00:00<?, ?it/s]"
      ]
     },
     "metadata": {},
     "output_type": "display_data"
    },
    {
     "data": {
      "application/vnd.jupyter.widget-view+json": {
       "model_id": "ce60323fa3674808bac2ab5180d8b277",
       "version_major": 2,
       "version_minor": 0
      },
      "text/plain": [
       "Fetching 1 files:   0%|          | 0/1 [00:00<?, ?it/s]"
      ]
     },
     "metadata": {},
     "output_type": "display_data"
    },
    {
     "name": "stderr",
     "output_type": "stream",
     "text": [
      "The image processor of type `Qwen2VLImageProcessor` is now loaded as a fast processor by default, even if the model checkpoint was saved with a slow processor. This is a breaking change and may produce slightly different outputs. To continue using the slow processor, instantiate this class with `use_fast=False`. Note that this behavior will be extended to all models in a future release.\n"
     ]
    },
    {
     "data": {
      "application/vnd.jupyter.widget-view+json": {
       "model_id": "4d735d2d5a194d0d935f595a0aa09931",
       "version_major": 2,
       "version_minor": 0
      },
      "text/plain": [
       "Fetching 1 files:   0%|          | 0/1 [00:00<?, ?it/s]"
      ]
     },
     "metadata": {},
     "output_type": "display_data"
    }
   ],
   "source": [
    "from transformers import Qwen2_5_VLForConditionalGeneration, AutoTokenizer, AutoProcessor\n",
    "from qwen_vl_utils import process_vision_info\n",
    "\n",
    "# default: Load the model on the available device(s)\n",
    "model = Qwen2_5_VLForConditionalGeneration.from_pretrained(\n",
    "    \"Qwen/Qwen2.5-VL-7B-Instruct\", torch_dtype=\"auto\", device_map=\"auto\"\n",
    ")\n",
    "\n",
    "# default processer\n",
    "processor = AutoProcessor.from_pretrained(\"Qwen/Qwen2.5-VL-7B-Instruct\")"
   ]
  },
  {
   "cell_type": "code",
   "execution_count": 4,
   "id": "29117271",
   "metadata": {},
   "outputs": [],
   "source": [
    "def inference(img, text):\n",
    "    messages = [\n",
    "        {\n",
    "            \"role\": \"user\",\n",
    "            \"content\": [\n",
    "                {\n",
    "                    \"type\": \"image\",\n",
    "                    \"image\": img,\n",
    "                },\n",
    "                {\"type\": \"text\", \"text\": text},\n",
    "            ],\n",
    "        }\n",
    "    ]\n",
    "    # Preparation for inference\n",
    "    text = processor.apply_chat_template(\n",
    "        messages, tokenize=False, add_generation_prompt=True\n",
    "    )\n",
    "    image_inputs, video_inputs = process_vision_info(messages)\n",
    "    inputs = processor(\n",
    "        text=[text],\n",
    "        images=image_inputs,\n",
    "        videos=video_inputs,\n",
    "        padding=True,\n",
    "        return_tensors=\"pt\",\n",
    "    )\n",
    "    inputs = inputs.to(\"cuda\")\n",
    "\n",
    "    # Inference: Generation of the output\n",
    "    generated_ids = model.generate(**inputs, max_new_tokens=128)\n",
    "    generated_ids_trimmed = [\n",
    "        out_ids[len(in_ids) :] for in_ids, out_ids in zip(inputs.input_ids, generated_ids)\n",
    "    ]\n",
    "    output_text = processor.batch_decode(\n",
    "        generated_ids_trimmed, skip_special_tokens=True, clean_up_tokenization_spaces=False\n",
    "    )\n",
    "    return(output_text[0])\n"
   ]
  },
  {
   "cell_type": "code",
   "execution_count": 5,
   "id": "4493b93b",
   "metadata": {},
   "outputs": [],
   "source": [
    "def text_formatter(field):\n",
    "    text = f\"You are a helpful assistant that extracts text from images and returns JSON for programmatic use. Find the value of {field} and return a JSON string in the format of {{'{field}': '<value>'}}.\"\n",
    "    return text"
   ]
  },
  {
   "cell_type": "code",
   "execution_count": 15,
   "id": "0cbfc2eb",
   "metadata": {},
   "outputs": [],
   "source": [
    "def answer_formatter(field, value):\n",
    "    return f\"{{'{field}': '{value}'}}\""
   ]
  },
  {
   "cell_type": "markdown",
   "id": "53d831b3",
   "metadata": {},
   "source": [
    "Loading Peft"
   ]
  },
  {
   "cell_type": "code",
   "execution_count": 10,
   "id": "75ba8204",
   "metadata": {},
   "outputs": [
    {
     "name": "stderr",
     "output_type": "stream",
     "text": [
      "/usr/local/lib/python3.11/dist-packages/peft/mapping_func.py:73: UserWarning: You are trying to modify a model with PEFT for a second time. If you want to reload the model with a different config, make sure to call `.unload()` before.\n",
      "  warnings.warn(\n"
     ]
    }
   ],
   "source": [
    "from peft import LoraConfig, get_peft_model\n",
    "\n",
    "peft_config = LoraConfig(\n",
    "    r=64,  # Larger rank is often better for large models\n",
    "    lora_alpha=128,\n",
    "    target_modules=[\"q_proj\", \"v_proj\", \"k_proj\", \"o_proj\", \"gate_proj\", \"up_proj\", \"down_proj\"],  # Specific to Qwen's attention/FFN\n",
    "    lora_dropout=0.05,\n",
    "    bias=\"none\",\n",
    "    task_type=\"CAUSAL_LM\"\n",
    ")\n",
    "\n",
    "model.enable_input_require_grads()  # Required for LoRA\n",
    "peft_model = get_peft_model(model, peft_config)"
   ]
  },
  {
   "cell_type": "markdown",
   "id": "d6aa0be6",
   "metadata": {},
   "source": [
    "Dataset Split"
   ]
  },
  {
   "cell_type": "code",
   "execution_count": 11,
   "id": "40021400",
   "metadata": {},
   "outputs": [],
   "source": [
    "# Perform an 80-20 random split\n",
    "split_dataset = dataset.train_test_split(test_size=0.2, seed=42)\n",
    "\n",
    "# Assign to separate variables\n",
    "train_ds = split_dataset[\"train\"]\n",
    "test_ds = split_dataset[\"test\"]\n",
    "\n",
    "train_ds = train_ds.shuffle()\n",
    "test_ds = test_ds.shuffle()"
   ]
  },
  {
   "cell_type": "code",
   "execution_count": 16,
   "id": "0441ba6e",
   "metadata": {},
   "outputs": [],
   "source": [
    "from typing import Any\n",
    "from unittest.util import _MAX_LENGTH\n",
    "import torch\n",
    "from qwen_vl_utils import process_vision_info\n",
    "\n",
    "\n",
    "class MyDataCollator:\n",
    "    def __init__(self, processor) -> None:\n",
    "        self.processor = processor\n",
    "       \n",
    "    def __call__(self, examples) -> Any:\n",
    "        texts = []\n",
    "        images = []\n",
    "        assistant_responses = []\n",
    "\n",
    "        for example in examples:\n",
    "            image = example[\"image\"]\n",
    "            field = example[\"field\"]\n",
    "            value = example[\"value\"]\n",
    "            answer = answer_formatter(field, value)\n",
    "           \n",
    "            messages = [\n",
    "                {\n",
    "                    \"role\": \"user\",\n",
    "                    \"content\": [\n",
    "                        # If you want EXACT order as inference, put image first\n",
    "                        {\"type\": \"image\", \"image\": image},\n",
    "                        {\"type\": \"text\", \"text\": text_formatter(field)},\n",
    "                    ]\n",
    "                },\n",
    "                {\n",
    "                    \"role\": \"assistant\",\n",
    "                    \"content\": [\n",
    "                        {\"type\": \"text\", \"text\": answer}\n",
    "                    ]\n",
    "                }\n",
    "            ]\n",
    "           \n",
    "            # Make sure to unify arguments with inference\n",
    "            text = self.processor.apply_chat_template(\n",
    "                messages, \n",
    "                tokenize=False,                 # match inference\n",
    "                add_generation_prompt=True       # match inference\n",
    "            )\n",
    "            texts.append(text)\n",
    "            images += process_vision_info(messages)[0]\n",
    "            assistant_responses.append(answer)\n",
    "       \n",
    "        batch = self.processor(\n",
    "            text=texts,\n",
    "            images=images,\n",
    "            return_tensors='pt',\n",
    "            padding=True,\n",
    "        )\n",
    "\n",
    "        labels = batch[\"input_ids\"].clone()\n",
    "       \n",
    "        for i, (input_ids, assistant_response) in enumerate(zip(batch[\"input_ids\"], assistant_responses)):\n",
    "            assistant_tokens = self.processor.tokenizer(\n",
    "                assistant_response, return_tensors=\"pt\"\n",
    "            )[\"input_ids\"][0]\n",
    "            \n",
    "            start_idx = self.find_subsequence(input_ids, assistant_tokens)\n",
    "            if start_idx is not None:\n",
    "                labels[i, :start_idx] = -100\n",
    "                labels[i, start_idx + len(assistant_tokens):] = -100\n",
    "\n",
    "        batch[\"labels\"] = labels\n",
    "        return batch\n",
    "\n",
    "    def find_subsequence(self, sequence, subsequence):\n",
    "        seq_len = len(sequence)\n",
    "        sub_len = len(subsequence)\n",
    "       \n",
    "        for i in range(seq_len - sub_len + 1):\n",
    "            if torch.equal(sequence[i : i + sub_len], subsequence):\n",
    "                return i\n",
    "        return None\n",
    "   \n",
    "data_collator = MyDataCollator(processor)  "
   ]
  },
  {
   "cell_type": "code",
   "execution_count": 18,
   "id": "f3c8e8e2",
   "metadata": {},
   "outputs": [],
   "source": [
    "from transformers import TrainingArguments\n",
    "from transformers import Trainer\n",
    "\n",
    "training_args = TrainingArguments(\n",
    "    num_train_epochs=1,  # You can go longer, but monitor for overfitting\n",
    "    per_device_train_batch_size=1,\n",
    "    per_device_eval_batch_size=1,\n",
    "    gradient_accumulation_steps=2,  # Helps simulate larger batch size\n",
    "    learning_rate=1e-4,  # Smaller LR for larger models\n",
    "    warmup_ratio=0.03,\n",
    "    logging_steps=80,\n",
    "    eval_strategy=\"steps\",\n",
    "    eval_steps=80,\n",
    "    save_strategy=\"steps\",\n",
    "    save_steps=80,\n",
    "    save_total_limit=2,\n",
    "    gradient_checkpointing=True,\n",
    "    bf16=True,\n",
    "    lr_scheduler_type=\"cosine\",\n",
    "    weight_decay=0.01,\n",
    "    load_best_model_at_end=True,\n",
    "    metric_for_best_model=\"eval_loss\",\n",
    "    remove_unused_columns=False,\n",
    "    output_dir=\"./qwen-peft-vl\",\n",
    "    report_to=\"none\",  # Avoid external logging unless needed\n",
    ")\n",
    "\n",
    "\n",
    "trainer = Trainer(\n",
    "    model=peft_model,\n",
    "    args=training_args,\n",
    "    data_collator=data_collator,\n",
    "    eval_dataset=test_ds,\n",
    "    train_dataset=train_ds,\n",
    ")"
   ]
  },
  {
   "cell_type": "code",
   "execution_count": 19,
   "id": "a07fca08",
   "metadata": {},
   "outputs": [
    {
     "name": "stderr",
     "output_type": "stream",
     "text": [
      "/usr/local/lib/python3.11/dist-packages/torch/utils/checkpoint.py:86: UserWarning: None of the inputs have requires_grad=True. Gradients will be None\n",
      "  warnings.warn(\n"
     ]
    },
    {
     "data": {
      "text/html": [
       "\n",
       "    <div>\n",
       "      \n",
       "      <progress value='176' max='176' style='width:300px; height:20px; vertical-align: middle;'></progress>\n",
       "      [176/176 19:37, Epoch 1/1]\n",
       "    </div>\n",
       "    <table border=\"1\" class=\"dataframe\">\n",
       "  <thead>\n",
       " <tr style=\"text-align: left;\">\n",
       "      <th>Step</th>\n",
       "      <th>Training Loss</th>\n",
       "      <th>Validation Loss</th>\n",
       "    </tr>\n",
       "  </thead>\n",
       "  <tbody>\n",
       "    <tr>\n",
       "      <td>80</td>\n",
       "      <td>0.206000</td>\n",
       "      <td>0.131596</td>\n",
       "    </tr>\n",
       "    <tr>\n",
       "      <td>160</td>\n",
       "      <td>0.124100</td>\n",
       "      <td>0.110980</td>\n",
       "    </tr>\n",
       "  </tbody>\n",
       "</table><p>"
      ],
      "text/plain": [
       "<IPython.core.display.HTML object>"
      ]
     },
     "metadata": {},
     "output_type": "display_data"
    },
    {
     "name": "stderr",
     "output_type": "stream",
     "text": [
      "/usr/local/lib/python3.11/dist-packages/PIL/Image.py:1047: UserWarning: Palette images with Transparency expressed in bytes should be converted to RGBA images\n",
      "  warnings.warn(\n",
      "/usr/local/lib/python3.11/dist-packages/torch/utils/checkpoint.py:86: UserWarning: None of the inputs have requires_grad=True. Gradients will be None\n",
      "  warnings.warn(\n",
      "/usr/local/lib/python3.11/dist-packages/PIL/Image.py:1047: UserWarning: Palette images with Transparency expressed in bytes should be converted to RGBA images\n",
      "  warnings.warn(\n",
      "/usr/local/lib/python3.11/dist-packages/torch/utils/checkpoint.py:86: UserWarning: None of the inputs have requires_grad=True. Gradients will be None\n",
      "  warnings.warn(\n"
     ]
    },
    {
     "data": {
      "text/plain": [
       "TrainOutput(global_step=176, training_loss=0.176583086902445, metrics={'train_runtime': 1184.1284, 'train_samples_per_second': 0.297, 'train_steps_per_second': 0.149, 'total_flos': 1.852223462551757e+16, 'train_loss': 0.176583086902445, 'epoch': 1.0})"
      ]
     },
     "execution_count": 19,
     "metadata": {},
     "output_type": "execute_result"
    }
   ],
   "source": [
    "trainer.train()"
   ]
  },
  {
   "cell_type": "code",
   "execution_count": null,
   "id": "532b08eb",
   "metadata": {},
   "outputs": [],
   "source": []
  }
 ],
 "metadata": {
  "kernelspec": {
   "display_name": "Python 3",
   "language": "python",
   "name": "python3"
  },
  "language_info": {
   "codemirror_mode": {
    "name": "ipython",
    "version": 3
   },
   "file_extension": ".py",
   "mimetype": "text/x-python",
   "name": "python",
   "nbconvert_exporter": "python",
   "pygments_lexer": "ipython3",
   "version": "3.11.11"
  }
 },
 "nbformat": 4,
 "nbformat_minor": 5
}
